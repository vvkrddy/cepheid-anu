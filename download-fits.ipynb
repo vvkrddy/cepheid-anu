{
 "cells": [
  {
   "cell_type": "code",
   "execution_count": 31,
   "metadata": {},
   "outputs": [],
   "source": [
    "from bs4 import BeautifulSoup as bs\n",
    "import requests\n",
    "import os\n",
    "import glob\n",
    "from astropy.io import fits\n",
    "import os\n",
    "import glob\n",
    "import subprocess\n",
    "import matplotlib.pyplot as plt\n",
    "import numpy as np"
   ]
  },
  {
   "cell_type": "code",
   "execution_count": 6,
   "metadata": {},
   "outputs": [],
   "source": [
    "URL = 'http://www.mso.anu.edu.au/~jerjen/researchprojects/cepheids/cepheid_data/'\n",
    "FILETYPE = '.fits'"
   ]
  },
  {
   "cell_type": "code",
   "execution_count": 7,
   "metadata": {},
   "outputs": [],
   "source": [
    "page = requests.get(URL)\n",
    "soup = bs(page.text, 'html.parser')"
   ]
  },
  {
   "cell_type": "code",
   "execution_count": 35,
   "metadata": {
    "tags": []
   },
   "outputs": [],
   "source": [
    "for link in soup.find_all('a'):\n",
    "    down_link = link.get('href')\n",
    "    if FILETYPE in down_link:\n",
    "#         print(type(link.text))\n",
    "        with open('data/'+link.text,'wb') as file:\n",
    "            response = requests.get(URL + down_link)\n",
    "            file.write(response.content)"
   ]
  }
 ],
 "metadata": {
  "kernelspec": {
   "display_name": "Python 3",
   "language": "python",
   "name": "python3"
  },
  "language_info": {
   "codemirror_mode": {
    "name": "ipython",
    "version": 3
   },
   "file_extension": ".py",
   "mimetype": "text/x-python",
   "name": "python",
   "nbconvert_exporter": "python",
   "pygments_lexer": "ipython3",
   "version": "3.8.5"
  }
 },
 "nbformat": 4,
 "nbformat_minor": 4
}
