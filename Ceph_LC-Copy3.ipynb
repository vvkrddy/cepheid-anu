{
 "cells": [
  {
   "cell_type": "code",
   "execution_count": 1,
   "metadata": {},
   "outputs": [],
   "source": [
    "import os\n",
    "import glob\n",
    "import subprocess\n",
    "import numpy as np\n",
    "import pandas as pd\n",
    "from astropy.io import fits\n",
    "from astropy.wcs import WCS\n",
    "import matplotlib.pyplot as plt\n",
    "from astropy.table import Table\n",
    "from astropy.visualization import astropy_mpl_style\n",
    "from photutils import CircularAperture\n",
    "from photutils import aperture_photometry\n",
    "from astropy.visualization import simple_norm\n",
    "from photutils import CircularAperture\n",
    "from photutils import CircularAnnulus\n",
    "\n",
    "# from numpy import cov\n",
    "# from scipy.stats import pearsonr\n",
    "\n",
    "from scipy import optimize\n",
    "\n",
    "# %matplotlib tk"
   ]
  },
  {
   "cell_type": "code",
   "execution_count": 2,
   "metadata": {},
   "outputs": [],
   "source": [
    "files = glob.glob('data/*.fits')"
   ]
  },
  {
   "cell_type": "code",
   "execution_count": 3,
   "metadata": {},
   "outputs": [],
   "source": [
    "columns = ['JD']\n",
    "jd = []\n",
    "for i in range(len(files)):\n",
    "    jd.append(float(files[i][-11:-5])*24*3600 + float(files[i][10:17])*86400)\n",
    "df = pd.DataFrame(columns=columns)\n",
    "df['JD'] = jd"
   ]
  },
  {
   "cell_type": "code",
   "execution_count": 4,
   "metadata": {},
   "outputs": [
    {
     "data": {
      "text/html": [
       "<div>\n",
       "<style scoped>\n",
       "    .dataframe tbody tr th:only-of-type {\n",
       "        vertical-align: middle;\n",
       "    }\n",
       "\n",
       "    .dataframe tbody tr th {\n",
       "        vertical-align: top;\n",
       "    }\n",
       "\n",
       "    .dataframe thead th {\n",
       "        text-align: right;\n",
       "    }\n",
       "</style>\n",
       "<table border=\"1\" class=\"dataframe\">\n",
       "  <thead>\n",
       "    <tr style=\"text-align: right;\">\n",
       "      <th></th>\n",
       "      <th>JD</th>\n",
       "    </tr>\n",
       "  </thead>\n",
       "  <tbody>\n",
       "    <tr>\n",
       "      <th>0</th>\n",
       "      <td>2.118434e+11</td>\n",
       "    </tr>\n",
       "    <tr>\n",
       "      <th>1</th>\n",
       "      <td>2.118435e+11</td>\n",
       "    </tr>\n",
       "    <tr>\n",
       "      <th>2</th>\n",
       "      <td>2.118434e+11</td>\n",
       "    </tr>\n",
       "    <tr>\n",
       "      <th>3</th>\n",
       "      <td>2.118434e+11</td>\n",
       "    </tr>\n",
       "    <tr>\n",
       "      <th>4</th>\n",
       "      <td>2.118437e+11</td>\n",
       "    </tr>\n",
       "    <tr>\n",
       "      <th>...</th>\n",
       "      <td>...</td>\n",
       "    </tr>\n",
       "    <tr>\n",
       "      <th>63</th>\n",
       "      <td>2.118435e+11</td>\n",
       "    </tr>\n",
       "    <tr>\n",
       "      <th>64</th>\n",
       "      <td>2.118435e+11</td>\n",
       "    </tr>\n",
       "    <tr>\n",
       "      <th>65</th>\n",
       "      <td>2.118436e+11</td>\n",
       "    </tr>\n",
       "    <tr>\n",
       "      <th>66</th>\n",
       "      <td>2.118435e+11</td>\n",
       "    </tr>\n",
       "    <tr>\n",
       "      <th>67</th>\n",
       "      <td>2.118435e+11</td>\n",
       "    </tr>\n",
       "  </tbody>\n",
       "</table>\n",
       "<p>68 rows × 1 columns</p>\n",
       "</div>"
      ],
      "text/plain": [
       "              JD\n",
       "0   2.118434e+11\n",
       "1   2.118435e+11\n",
       "2   2.118434e+11\n",
       "3   2.118434e+11\n",
       "4   2.118437e+11\n",
       "..           ...\n",
       "63  2.118435e+11\n",
       "64  2.118435e+11\n",
       "65  2.118436e+11\n",
       "66  2.118435e+11\n",
       "67  2.118435e+11\n",
       "\n",
       "[68 rows x 1 columns]"
      ]
     },
     "execution_count": 4,
     "metadata": {},
     "output_type": "execute_result"
    }
   ],
   "source": [
    "df"
   ]
  },
  {
   "cell_type": "code",
   "execution_count": 5,
   "metadata": {},
   "outputs": [
    {
     "name": "stderr",
     "output_type": "stream",
     "text": [
      "WARNING: VerifyWarning: Verification reported errors: [astropy.io.fits.verify]\n",
      "WARNING: VerifyWarning: Card keyword 'CCDr-SRT' is not upper case.  Fixed 'CCDR-SRT' card to meet the FITS standard. [astropy.io.fits.verify]\n",
      "WARNING: VerifyWarning: Note: astropy.io.fits uses zero-based indexing.\n",
      " [astropy.io.fits.verify]\n",
      "WARNING: VerifyWarning: Card keyword 'AluR-SRT' is not upper case.  Fixed 'ALUR-SRT' card to meet the FITS standard. [astropy.io.fits.verify]\n",
      "WARNING: VerifyWarning: Card keyword 'TFr-SRT' is not upper case.  Fixed 'TFR-SRT' card to meet the FITS standard. [astropy.io.fits.verify]\n",
      "WARNING: VerifyWarning: Card keyword 'CCDb-SRT' is not upper case.  Fixed 'CCDB-SRT' card to meet the FITS standard. [astropy.io.fits.verify]\n",
      "WARNING: VerifyWarning: Card keyword 'AluB-SRT' is not upper case.  Fixed 'ALUB-SRT' card to meet the FITS standard. [astropy.io.fits.verify]\n",
      "WARNING: VerifyWarning: Card keyword 'TFb-SRT' is not upper case.  Fixed 'TFB-SRT' card to meet the FITS standard. [astropy.io.fits.verify]\n",
      "WARNING: VerifyWarning: Card keyword 'Tele-SRT' is not upper case.  Fixed 'TELE-SRT' card to meet the FITS standard. [astropy.io.fits.verify]\n",
      "WARNING: VerifyWarning: Card keyword 'Mirr-SRT' is not upper case.  Fixed 'MIRR-SRT' card to meet the FITS standard. [astropy.io.fits.verify]\n",
      "WARNING: VerifyWarning: Card keyword 'Ext-SRT' is not upper case.  Fixed 'EXT-SRT' card to meet the FITS standard. [astropy.io.fits.verify]\n",
      "WARNING: VerifyWarning: Card keyword 'Cube-SRT' is not upper case.  Fixed 'CUBE-SRT' card to meet the FITS standard. [astropy.io.fits.verify]\n",
      "WARNING: FITSFixedWarning: 'datfix' made the change 'Set MJD-OBS to 51895.000000 from DATE-OBS.\n",
      "Changed DATE-OBS from '17/12/2000' to '2000-12-17''. [astropy.wcs.wcs]\n",
      "WARNING: FITSFixedWarning: 'datfix' made the change 'Set MJD-OBS to 51906.000000 from DATE-OBS.\n",
      "Changed DATE-OBS from '28/12/2000' to '2000-12-28''. [astropy.wcs.wcs]\n",
      "WARNING: FITSFixedWarning: 'datfix' made the change 'Set MJD-OBS to 51937.000000 from DATE-OBS.\n",
      "Changed DATE-OBS from '28/01/2001' to '2001-01-28''. [astropy.wcs.wcs]\n",
      "WARNING: FITSFixedWarning: 'datfix' made the change 'Set MJD-OBS to 51893.000000 from DATE-OBS.\n",
      "Changed DATE-OBS from '15/12/2000' to '2000-12-15''. [astropy.wcs.wcs]\n",
      "WARNING: FITSFixedWarning: 'datfix' made the change 'Set MJD-OBS to 51911.000000 from DATE-OBS.\n",
      "Changed DATE-OBS from '02/01/2001' to '2001-01-02''. [astropy.wcs.wcs]\n",
      "WARNING: FITSFixedWarning: 'datfix' made the change 'Set MJD-OBS to 51926.000000 from DATE-OBS.\n",
      "Changed DATE-OBS from '17/01/2001' to '2001-01-17''. [astropy.wcs.wcs]\n",
      "WARNING: FITSFixedWarning: 'datfix' made the change 'Set MJD-OBS to 51945.000000 from DATE-OBS.\n",
      "Changed DATE-OBS from '05/02/2001' to '2001-02-05''. [astropy.wcs.wcs]\n",
      "WARNING: FITSFixedWarning: 'datfix' made the change 'Set MJD-OBS to 51933.000000 from DATE-OBS.\n",
      "Changed DATE-OBS from '24/01/2001' to '2001-01-24''. [astropy.wcs.wcs]\n",
      "WARNING: FITSFixedWarning: 'datfix' made the change 'Set MJD-OBS to 51899.000000 from DATE-OBS.\n",
      "Changed DATE-OBS from '21/12/2000' to '2000-12-21''. [astropy.wcs.wcs]\n",
      "WARNING: FITSFixedWarning: 'datfix' made the change 'Set MJD-OBS to 51941.000000 from DATE-OBS.\n",
      "Changed DATE-OBS from '01/02/2001' to '2001-02-01''. [astropy.wcs.wcs]\n",
      "WARNING: FITSFixedWarning: 'datfix' made the change 'Set MJD-OBS to 51910.000000 from DATE-OBS.\n",
      "Changed DATE-OBS from '01/01/2001' to '2001-01-01''. [astropy.wcs.wcs]\n",
      "WARNING: FITSFixedWarning: 'datfix' made the change 'Set MJD-OBS to 51939.000000 from DATE-OBS.\n",
      "Changed DATE-OBS from '30/01/2001' to '2001-01-30''. [astropy.wcs.wcs]\n",
      "WARNING: FITSFixedWarning: 'datfix' made the change 'Set MJD-OBS to 51944.000000 from DATE-OBS.\n",
      "Changed DATE-OBS from '04/02/2001' to '2001-02-04''. [astropy.wcs.wcs]\n",
      "WARNING: FITSFixedWarning: 'datfix' made the change 'Set MJD-OBS to 51931.000000 from DATE-OBS.\n",
      "Changed DATE-OBS from '22/01/2001' to '2001-01-22''. [astropy.wcs.wcs]\n",
      "WARNING: FITSFixedWarning: 'datfix' made the change 'Set MJD-OBS to 51923.000000 from DATE-OBS.\n",
      "Changed DATE-OBS from '14/01/2001' to '2001-01-14''. [astropy.wcs.wcs]\n",
      "WARNING: FITSFixedWarning: 'datfix' made the change 'Set MJD-OBS to 51913.000000 from DATE-OBS.\n",
      "Changed DATE-OBS from '04/01/2001' to '2001-01-04''. [astropy.wcs.wcs]\n",
      "WARNING: FITSFixedWarning: 'datfix' made the change 'Set MJD-OBS to 51907.000000 from DATE-OBS.\n",
      "Changed DATE-OBS from '29/12/2000' to '2000-12-29''. [astropy.wcs.wcs]\n",
      "WARNING: FITSFixedWarning: 'datfix' made the change 'Set MJD-OBS to 51947.000000 from DATE-OBS.\n",
      "Changed DATE-OBS from '07/02/2001' to '2001-02-07''. [astropy.wcs.wcs]\n",
      "WARNING: FITSFixedWarning: 'datfix' made the change 'Set MJD-OBS to 51915.000000 from DATE-OBS.\n",
      "Changed DATE-OBS from '06/01/2001' to '2001-01-06''. [astropy.wcs.wcs]\n",
      "WARNING: FITSFixedWarning: 'datfix' made the change 'Set MJD-OBS to 51894.000000 from DATE-OBS.\n",
      "Changed DATE-OBS from '16/12/2000' to '2000-12-16''. [astropy.wcs.wcs]\n",
      "WARNING: FITSFixedWarning: 'datfix' made the change 'Set MJD-OBS to 51896.000000 from DATE-OBS.\n",
      "Changed DATE-OBS from '18/12/2000' to '2000-12-18''. [astropy.wcs.wcs]\n",
      "WARNING: FITSFixedWarning: 'datfix' made the change 'Set MJD-OBS to 51897.000000 from DATE-OBS.\n",
      "Changed DATE-OBS from '19/12/2000' to '2000-12-19''. [astropy.wcs.wcs]\n",
      "WARNING: FITSFixedWarning: 'datfix' made the change 'Set MJD-OBS to 51918.000000 from DATE-OBS.\n",
      "Changed DATE-OBS from '09/01/2001' to '2001-01-09''. [astropy.wcs.wcs]\n",
      "WARNING: FITSFixedWarning: 'datfix' made the change 'Set MJD-OBS to 51940.000000 from DATE-OBS.\n",
      "Changed DATE-OBS from '31/01/2001' to '2001-01-31''. [astropy.wcs.wcs]\n",
      "WARNING: FITSFixedWarning: 'datfix' made the change 'Set MJD-OBS to 51891.000000 from DATE-OBS.\n",
      "Changed DATE-OBS from '13/12/2000' to '2000-12-13''. [astropy.wcs.wcs]\n",
      "WARNING: FITSFixedWarning: 'datfix' made the change 'Set MJD-OBS to 51922.000000 from DATE-OBS.\n",
      "Changed DATE-OBS from '13/01/2001' to '2001-01-13''. [astropy.wcs.wcs]\n",
      "WARNING: FITSFixedWarning: 'datfix' made the change 'Set MJD-OBS to 51904.000000 from DATE-OBS.\n",
      "Changed DATE-OBS from '26/12/2000' to '2000-12-26''. [astropy.wcs.wcs]\n",
      "WARNING: FITSFixedWarning: 'datfix' made the change 'Set MJD-OBS to 51903.000000 from DATE-OBS.\n",
      "Changed DATE-OBS from '25/12/2000' to '2000-12-25''. [astropy.wcs.wcs]\n",
      "WARNING: FITSFixedWarning: 'datfix' made the change 'Set MJD-OBS to 51948.000000 from DATE-OBS.\n",
      "Changed DATE-OBS from '08/02/2001' to '2001-02-08''. [astropy.wcs.wcs]\n",
      "WARNING: FITSFixedWarning: 'datfix' made the change 'Set MJD-OBS to 51925.000000 from DATE-OBS.\n",
      "Changed DATE-OBS from '16/01/2001' to '2001-01-16''. [astropy.wcs.wcs]\n",
      "WARNING: FITSFixedWarning: 'datfix' made the change 'Set MJD-OBS to 51936.000000 from DATE-OBS.\n",
      "Changed DATE-OBS from '27/01/2001' to '2001-01-27''. [astropy.wcs.wcs]\n",
      "WARNING: FITSFixedWarning: 'datfix' made the change 'Set MJD-OBS to 51909.000000 from DATE-OBS.\n",
      "Changed DATE-OBS from '31/12/2000' to '2000-12-31''. [astropy.wcs.wcs]\n",
      "WARNING: FITSFixedWarning: 'datfix' made the change 'Set MJD-OBS to 51934.000000 from DATE-OBS.\n",
      "Changed DATE-OBS from '25/01/2001' to '2001-01-25''. [astropy.wcs.wcs]\n",
      "WARNING: FITSFixedWarning: 'datfix' made the change 'Set MJD-OBS to 51901.000000 from DATE-OBS.\n",
      "Changed DATE-OBS from '23/12/2000' to '2000-12-23''. [astropy.wcs.wcs]\n",
      "WARNING: FITSFixedWarning: 'datfix' made the change 'Set MJD-OBS to 51935.000000 from DATE-OBS.\n",
      "Changed DATE-OBS from '26/01/2001' to '2001-01-26''. [astropy.wcs.wcs]\n",
      "WARNING: FITSFixedWarning: 'datfix' made the change 'Set MJD-OBS to 51898.000000 from DATE-OBS.\n",
      "Changed DATE-OBS from '20/12/2000' to '2000-12-20''. [astropy.wcs.wcs]\n",
      "WARNING: FITSFixedWarning: 'datfix' made the change 'Set MJD-OBS to 51919.000000 from DATE-OBS.\n",
      "Changed DATE-OBS from '10/01/2001' to '2001-01-10''. [astropy.wcs.wcs]\n",
      "WARNING: FITSFixedWarning: 'datfix' made the change 'Set MJD-OBS to 51902.000000 from DATE-OBS.\n",
      "Changed DATE-OBS from '24/12/2000' to '2000-12-24''. [astropy.wcs.wcs]\n",
      "WARNING: FITSFixedWarning: 'datfix' made the change 'Set MJD-OBS to 51914.000000 from DATE-OBS.\n",
      "Changed DATE-OBS from '05/01/2001' to '2001-01-05''. [astropy.wcs.wcs]\n",
      "WARNING: FITSFixedWarning: 'datfix' made the change 'Set MJD-OBS to 51938.000000 from DATE-OBS.\n",
      "Changed DATE-OBS from '29/01/2001' to '2001-01-29''. [astropy.wcs.wcs]\n",
      "WARNING: FITSFixedWarning: 'datfix' made the change 'Set MJD-OBS to 51920.000000 from DATE-OBS.\n",
      "Changed DATE-OBS from '11/01/2001' to '2001-01-11''. [astropy.wcs.wcs]\n",
      "WARNING: FITSFixedWarning: 'datfix' made the change 'Set MJD-OBS to 51900.000000 from DATE-OBS.\n",
      "Changed DATE-OBS from '22/12/2000' to '2000-12-22''. [astropy.wcs.wcs]\n",
      "WARNING: FITSFixedWarning: 'datfix' made the change 'Set MJD-OBS to 51912.000000 from DATE-OBS.\n",
      "Changed DATE-OBS from '03/01/2001' to '2001-01-03''. [astropy.wcs.wcs]\n",
      "WARNING: FITSFixedWarning: 'datfix' made the change 'Set MJD-OBS to 51924.000000 from DATE-OBS.\n",
      "Changed DATE-OBS from '15/01/2001' to '2001-01-15''. [astropy.wcs.wcs]\n",
      "WARNING: FITSFixedWarning: 'datfix' made the change 'Set MJD-OBS to 51946.000000 from DATE-OBS.\n",
      "Changed DATE-OBS from '06/02/2001' to '2001-02-06''. [astropy.wcs.wcs]\n",
      "WARNING: FITSFixedWarning: 'datfix' made the change 'Set MJD-OBS to 51889.000000 from DATE-OBS.\n",
      "Changed DATE-OBS from '11/12/2000' to '2000-12-11''. [astropy.wcs.wcs]\n",
      "WARNING: FITSFixedWarning: 'datfix' made the change 'Set MJD-OBS to 51916.000000 from DATE-OBS.\n",
      "Changed DATE-OBS from '07/01/2001' to '2001-01-07''. [astropy.wcs.wcs]\n"
     ]
    }
   ],
   "source": [
    "aperture_sum_list = []\n",
    "\n",
    "\n",
    "for i in range(len(files)):\n",
    "    nest_list = []\n",
    "    hdu = fits.open(files[i])\n",
    "\n",
    "    w = WCS(hdu[0].header)\n",
    "\n",
    "    positions = [(100., 100.),(41,115.5),(150,143)]\n",
    "    aperture = CircularAperture(positions, r=6.)\n",
    "\n",
    "    image = hdu[0].data\n",
    "\n",
    "#     annulus_aperture = CircularAnnulus(positions, r_in=8., r_out=11.)\n",
    "#     annulus_aperture = CircularAnnulus(positions, r_in=8., r_out=10.)\n",
    "# better\n",
    "#     annulus_aperture = CircularAnnulus(positions, r_in=11., r_out=13.)\n",
    "\n",
    "#     if(i==0):\n",
    "#         norm = simple_norm(image, 'sqrt', percent = 99)\n",
    "#         plt.figure(figsize=(8,8)) #size\n",
    "#         plt.style.use(astropy_mpl_style) #styling and gimmicks of astropy\n",
    "#         plt.imshow(image,vmin=np.median(image)-1*np.std(image),\n",
    "#                    vmax=np.median(image)+10*np.std(image),cmap='gray')\n",
    "#         plt.colorbar() #a bar showing the scale of the image\n",
    "#         aperture.plot(color='white',lw=2)\n",
    "#         annulus_aperture.plot(color='red',lw=2)\n",
    "#         annulus_masks = annulus_aperture.to_mask(method='center')\n",
    "#         plt.imshow(annulus_masks[0], interpolation='nearest')\n",
    "#         plt.colorbar()\n",
    "\n",
    "    for j in range(6,11):\n",
    "        for k in range(1,6):\n",
    "#             nest_list = []\n",
    "            annulus_aperture = CircularAnnulus(positions, r_in=j, r_out=j+k)\n",
    "            apers = [aperture, annulus_aperture]\n",
    "            phot_table = aperture_photometry(image, apers)\n",
    "            for col in phot_table.colnames:\n",
    "                phot_table[col].info.format = '%.8g'  # for consistent table output\n",
    "#             print(phot_table)\n",
    "\n",
    "            bkg_mean = phot_table['aperture_sum_1'] / annulus_aperture.area\n",
    "\n",
    "            bkg_sum = bkg_mean * aperture.area\n",
    "            final_sum = phot_table['aperture_sum_0'] - bkg_sum\n",
    "            phot_table['residual_aperture_sum'] = final_sum\n",
    "            phot_table['residual_aperture_sum'].info.format = '%.8g'  # for consistent table output\n",
    "#             aperture_sum_list.append(nest_list)\n",
    "#             print(phot_table)\n",
    "#             print(len(nest_list))\n",
    "    \n",
    "            nest_list.append(phot_table['residual_aperture_sum'])\n",
    "    aperture_sum_list.append(nest_list)\n",
    "    \n",
    "    \n",
    "#             print(nest_list)\n",
    "            \n",
    "# print(aperture_sum_list)"
   ]
  },
  {
   "cell_type": "code",
   "execution_count": 6,
   "metadata": {},
   "outputs": [
    {
     "data": {
      "text/plain": [
       "25"
      ]
     },
     "execution_count": 6,
     "metadata": {},
     "output_type": "execute_result"
    }
   ],
   "source": [
    "len(nest_list)"
   ]
  },
  {
   "cell_type": "code",
   "execution_count": 7,
   "metadata": {},
   "outputs": [
    {
     "data": {
      "text/plain": [
       "25"
      ]
     },
     "execution_count": 7,
     "metadata": {},
     "output_type": "execute_result"
    }
   ],
   "source": [
    "len(aperture_sum_list[0])"
   ]
  },
  {
   "cell_type": "code",
   "execution_count": 8,
   "metadata": {},
   "outputs": [],
   "source": [
    "ins_mag_0_6_7 = []\n",
    "ins_mag_1_6_7 = []\n",
    "ins_mag_2_6_7 = []\n",
    "\n",
    "for i in range(len(aperture_sum_list)): \n",
    "        ins_mag_0_6_7.append(aperture_sum_list[i][0][0])\n",
    "        ins_mag_1_6_7.append(aperture_sum_list[i][0][1])        \n",
    "        ins_mag_2_6_7.append(aperture_sum_list[i][0][2])        "
   ]
  },
  {
   "cell_type": "code",
   "execution_count": 9,
   "metadata": {},
   "outputs": [
    {
     "data": {
      "text/plain": [
       "[400455.3952306757,\n",
       " 329622.5275974796,\n",
       " 417828.2571725526,\n",
       " 287275.00843090226,\n",
       " 386076.9929266636,\n",
       " 281747.45871032204,\n",
       " 453973.7689016216,\n",
       " 55437.93753748352,\n",
       " 294519.0260654463,\n",
       " 317267.6040325736,\n",
       " 385508.19125749974,\n",
       " 218457.3119111135,\n",
       " 397581.39901919255,\n",
       " 385503.90575547446,\n",
       " 411063.66051112185,\n",
       " 433561.71651957993,\n",
       " 326443.6207557741,\n",
       " 297135.12866887084,\n",
       " 457935.4677749409,\n",
       " 271079.0266848182,\n",
       " 263222.0360187695,\n",
       " 375631.85456423636,\n",
       " 339843.25187153474,\n",
       " 443358.5715948471,\n",
       " 339934.3647401898,\n",
       " 406407.49425435066,\n",
       " 58237.59268960147,\n",
       " 330359.6090425744,\n",
       " 394063.0336244293,\n",
       " 300437.61907980125,\n",
       " 364073.0822583322,\n",
       " 357556.3088106037,\n",
       " 395484.8605682589,\n",
       " 450895.1443505637,\n",
       " 310593.5299988581,\n",
       " 445288.62681277504,\n",
       " 330066.19808918325,\n",
       " 362661.2576277121,\n",
       " 328459.497312129,\n",
       " 329148.32889599557,\n",
       " 276342.64447655284,\n",
       " 407825.3204642299,\n",
       " 478349.4230181609,\n",
       " 484439.0076364142,\n",
       " 251765.3023551521,\n",
       " 339022.9122798499,\n",
       " 252250.00511937897,\n",
       " 379296.8099686314,\n",
       " 428696.18421728886,\n",
       " 427742.3945496719,\n",
       " 125706.2995440216,\n",
       " 412613.2285686152,\n",
       " 358594.6852224493,\n",
       " 297743.1393221406,\n",
       " 344536.3187872628,\n",
       " 350335.4796743295,\n",
       " 443049.494032307,\n",
       " 320904.9722355696,\n",
       " 284759.6330507441,\n",
       " 271487.0688869832,\n",
       " 386117.37826827425,\n",
       " 357419.6611524903,\n",
       " 393400.2871718643,\n",
       " 373471.9023192028,\n",
       " 313031.38063799124,\n",
       " 336532.9685806041,\n",
       " 272156.7295096053,\n",
       " 347825.9938646284]"
      ]
     },
     "execution_count": 9,
     "metadata": {},
     "output_type": "execute_result"
    }
   ],
   "source": [
    "ins_mag_2_6_7"
   ]
  },
  {
   "cell_type": "code",
   "execution_count": 10,
   "metadata": {
    "jupyter": {
     "source_hidden": true
    }
   },
   "outputs": [
    {
     "ename": "NameError",
     "evalue": "name 'aperture_sum_list_0_6_7' is not defined",
     "output_type": "error",
     "traceback": [
      "\u001b[0;31m---------------------------------------------------------------------------\u001b[0m",
      "\u001b[0;31mNameError\u001b[0m                                 Traceback (most recent call last)",
      "\u001b[0;32m<ipython-input-10-296e7c1ddb2f>\u001b[0m in \u001b[0;36m<module>\u001b[0;34m\u001b[0m\n\u001b[0;32m----> 1\u001b[0;31m \u001b[0maperture_sum_list_0_6_7\u001b[0m\u001b[0;34m\u001b[0m\u001b[0;34m\u001b[0m\u001b[0m\n\u001b[0m",
      "\u001b[0;31mNameError\u001b[0m: name 'aperture_sum_list_0_6_7' is not defined"
     ]
    }
   ],
   "source": [
    "aperture_sum_list_0_6_7"
   ]
  },
  {
   "cell_type": "code",
   "execution_count": 11,
   "metadata": {},
   "outputs": [],
   "source": [
    "aperture_sum_list_0=[]\n",
    "aperture_sum_list_1=[]\n",
    "aperture_sum_list_2=[]\n",
    "for i in range(len(aperture_sum_list)):\n",
    "    aperture_sum_list_0.append(-2.5*np.log(aperture_sum_list[i][0]))\n",
    "    aperture_sum_list_1.append(-2.5*np.log(aperture_sum_list[i][1]))\n",
    "    aperture_sum_list_2.append(-2.5*np.log(aperture_sum_list[i][2]))\n"
   ]
  },
  {
   "cell_type": "code",
   "execution_count": 12,
   "metadata": {},
   "outputs": [],
   "source": [
    "df['ins_mag_0'] = aperture_sum_list_0\n",
    "df['ins_mag_1'] = aperture_sum_list_1\n",
    "df['ins_mag_2'] = aperture_sum_list_2"
   ]
  },
  {
   "cell_type": "code",
   "execution_count": 13,
   "metadata": {},
   "outputs": [
    {
     "data": {
      "text/html": [
       "<div>\n",
       "<style scoped>\n",
       "    .dataframe tbody tr th:only-of-type {\n",
       "        vertical-align: middle;\n",
       "    }\n",
       "\n",
       "    .dataframe tbody tr th {\n",
       "        vertical-align: top;\n",
       "    }\n",
       "\n",
       "    .dataframe thead th {\n",
       "        text-align: right;\n",
       "    }\n",
       "</style>\n",
       "<table border=\"1\" class=\"dataframe\">\n",
       "  <thead>\n",
       "    <tr style=\"text-align: right;\">\n",
       "      <th></th>\n",
       "      <th>JD</th>\n",
       "      <th>ins_mag_0</th>\n",
       "      <th>ins_mag_1</th>\n",
       "      <th>ins_mag_2</th>\n",
       "    </tr>\n",
       "  </thead>\n",
       "  <tbody>\n",
       "    <tr>\n",
       "      <th>0</th>\n",
       "      <td>2.118434e+11</td>\n",
       "      <td>[-25.16799012703895, -31.612009824408666, -32....</td>\n",
       "      <td>[-25.143302035807533, -31.812058663224917, -32...</td>\n",
       "      <td>[-25.015836904044978, -31.932732244413543, -32...</td>\n",
       "    </tr>\n",
       "    <tr>\n",
       "      <th>1</th>\n",
       "      <td>2.118435e+11</td>\n",
       "      <td>[-22.489921658320135, -32.01991306006481, -31....</td>\n",
       "      <td>[-22.371956817383026, -32.06220250618469, -31....</td>\n",
       "      <td>[-22.25201986004112, -32.09007145756328, -31.8...</td>\n",
       "    </tr>\n",
       "    <tr>\n",
       "      <th>2</th>\n",
       "      <td>2.118434e+11</td>\n",
       "      <td>[-25.074048725162385, -32.50782536051644, -32....</td>\n",
       "      <td>[-24.979202418925528, -32.69394173700233, -32....</td>\n",
       "      <td>[-24.757789496391798, -32.80630522424086, -32....</td>\n",
       "    </tr>\n",
       "    <tr>\n",
       "      <th>3</th>\n",
       "      <td>2.118434e+11</td>\n",
       "      <td>[-25.438058341235767, -31.697856628041166, -31...</td>\n",
       "      <td>[-25.407079178941544, -31.878386167662708, -31...</td>\n",
       "      <td>[-25.292050889690792, -31.994985413791106, -31...</td>\n",
       "    </tr>\n",
       "    <tr>\n",
       "      <th>4</th>\n",
       "      <td>2.118437e+11</td>\n",
       "      <td>[-25.32741839023286, -31.416516804760075, -32....</td>\n",
       "      <td>[-25.273411476484327, -31.606923137473597, -32...</td>\n",
       "      <td>[-25.057999169642322, -31.723924963375353, -32...</td>\n",
       "    </tr>\n",
       "    <tr>\n",
       "      <th>...</th>\n",
       "      <td>...</td>\n",
       "      <td>...</td>\n",
       "      <td>...</td>\n",
       "      <td>...</td>\n",
       "    </tr>\n",
       "    <tr>\n",
       "      <th>63</th>\n",
       "      <td>2.118435e+11</td>\n",
       "      <td>[-23.62609739088148, -31.75146572632996, -32.0...</td>\n",
       "      <td>[-23.506880742589985, -31.917179936096467, -32...</td>\n",
       "      <td>[-23.264459396848434, -32.02350947967483, -32....</td>\n",
       "    </tr>\n",
       "    <tr>\n",
       "      <th>64</th>\n",
       "      <td>2.118435e+11</td>\n",
       "      <td>[-25.533617594299834, -32.552659542741125, -31...</td>\n",
       "      <td>[-25.645847336602614, -32.66679967211137, -31....</td>\n",
       "      <td>[-25.519936885444064, -32.742889416183694, -31...</td>\n",
       "    </tr>\n",
       "    <tr>\n",
       "      <th>65</th>\n",
       "      <td>2.118436e+11</td>\n",
       "      <td>[-25.132603256309146, -31.75937603613241, -31....</td>\n",
       "      <td>[-25.205251916214003, -31.966960801336647, -32...</td>\n",
       "      <td>[-24.995808643048147, -32.096512517518235, -32...</td>\n",
       "    </tr>\n",
       "    <tr>\n",
       "      <th>66</th>\n",
       "      <td>2.118435e+11</td>\n",
       "      <td>[-24.597556992027087, -30.419287308374813, -31...</td>\n",
       "      <td>[-24.84217399457467, -30.787316278769946, -31....</td>\n",
       "      <td>[-24.703142572609202, -31.009972766026465, -31...</td>\n",
       "    </tr>\n",
       "    <tr>\n",
       "      <th>67</th>\n",
       "      <td>2.118435e+11</td>\n",
       "      <td>[-25.551621881889396, -32.10441926648401, -31....</td>\n",
       "      <td>[-25.491185330276732, -32.251128085246805, -32...</td>\n",
       "      <td>[-25.349868593517115, -32.34427595078044, -32....</td>\n",
       "    </tr>\n",
       "  </tbody>\n",
       "</table>\n",
       "<p>68 rows × 4 columns</p>\n",
       "</div>"
      ],
      "text/plain": [
       "              JD                                          ins_mag_0  \\\n",
       "0   2.118434e+11  [-25.16799012703895, -31.612009824408666, -32....   \n",
       "1   2.118435e+11  [-22.489921658320135, -32.01991306006481, -31....   \n",
       "2   2.118434e+11  [-25.074048725162385, -32.50782536051644, -32....   \n",
       "3   2.118434e+11  [-25.438058341235767, -31.697856628041166, -31...   \n",
       "4   2.118437e+11  [-25.32741839023286, -31.416516804760075, -32....   \n",
       "..           ...                                                ...   \n",
       "63  2.118435e+11  [-23.62609739088148, -31.75146572632996, -32.0...   \n",
       "64  2.118435e+11  [-25.533617594299834, -32.552659542741125, -31...   \n",
       "65  2.118436e+11  [-25.132603256309146, -31.75937603613241, -31....   \n",
       "66  2.118435e+11  [-24.597556992027087, -30.419287308374813, -31...   \n",
       "67  2.118435e+11  [-25.551621881889396, -32.10441926648401, -31....   \n",
       "\n",
       "                                            ins_mag_1  \\\n",
       "0   [-25.143302035807533, -31.812058663224917, -32...   \n",
       "1   [-22.371956817383026, -32.06220250618469, -31....   \n",
       "2   [-24.979202418925528, -32.69394173700233, -32....   \n",
       "3   [-25.407079178941544, -31.878386167662708, -31...   \n",
       "4   [-25.273411476484327, -31.606923137473597, -32...   \n",
       "..                                                ...   \n",
       "63  [-23.506880742589985, -31.917179936096467, -32...   \n",
       "64  [-25.645847336602614, -32.66679967211137, -31....   \n",
       "65  [-25.205251916214003, -31.966960801336647, -32...   \n",
       "66  [-24.84217399457467, -30.787316278769946, -31....   \n",
       "67  [-25.491185330276732, -32.251128085246805, -32...   \n",
       "\n",
       "                                            ins_mag_2  \n",
       "0   [-25.015836904044978, -31.932732244413543, -32...  \n",
       "1   [-22.25201986004112, -32.09007145756328, -31.8...  \n",
       "2   [-24.757789496391798, -32.80630522424086, -32....  \n",
       "3   [-25.292050889690792, -31.994985413791106, -31...  \n",
       "4   [-25.057999169642322, -31.723924963375353, -32...  \n",
       "..                                                ...  \n",
       "63  [-23.264459396848434, -32.02350947967483, -32....  \n",
       "64  [-25.519936885444064, -32.742889416183694, -31...  \n",
       "65  [-24.995808643048147, -32.096512517518235, -32...  \n",
       "66  [-24.703142572609202, -31.009972766026465, -31...  \n",
       "67  [-25.349868593517115, -32.34427595078044, -32....  \n",
       "\n",
       "[68 rows x 4 columns]"
      ]
     },
     "execution_count": 13,
     "metadata": {},
     "output_type": "execute_result"
    }
   ],
   "source": [
    "df"
   ]
  },
  {
   "cell_type": "code",
   "execution_count": 14,
   "metadata": {},
   "outputs": [],
   "source": [
    "df = df.sort_values(by=['JD'])"
   ]
  },
  {
   "cell_type": "code",
   "execution_count": 15,
   "metadata": {},
   "outputs": [
    {
     "ename": "KeyError",
     "evalue": "'da_1'",
     "output_type": "error",
     "traceback": [
      "\u001b[0;31m---------------------------------------------------------------------------\u001b[0m",
      "\u001b[0;31mKeyError\u001b[0m                                  Traceback (most recent call last)",
      "\u001b[0;32m~/anaconda3/lib/python3.8/site-packages/pandas/core/indexes/base.py\u001b[0m in \u001b[0;36mget_loc\u001b[0;34m(self, key, method, tolerance)\u001b[0m\n\u001b[1;32m   2894\u001b[0m             \u001b[0;32mtry\u001b[0m\u001b[0;34m:\u001b[0m\u001b[0;34m\u001b[0m\u001b[0;34m\u001b[0m\u001b[0m\n\u001b[0;32m-> 2895\u001b[0;31m                 \u001b[0;32mreturn\u001b[0m \u001b[0mself\u001b[0m\u001b[0;34m.\u001b[0m\u001b[0m_engine\u001b[0m\u001b[0;34m.\u001b[0m\u001b[0mget_loc\u001b[0m\u001b[0;34m(\u001b[0m\u001b[0mcasted_key\u001b[0m\u001b[0;34m)\u001b[0m\u001b[0;34m\u001b[0m\u001b[0;34m\u001b[0m\u001b[0m\n\u001b[0m\u001b[1;32m   2896\u001b[0m             \u001b[0;32mexcept\u001b[0m \u001b[0mKeyError\u001b[0m \u001b[0;32mas\u001b[0m \u001b[0merr\u001b[0m\u001b[0;34m:\u001b[0m\u001b[0;34m\u001b[0m\u001b[0;34m\u001b[0m\u001b[0m\n",
      "\u001b[0;32mpandas/_libs/index.pyx\u001b[0m in \u001b[0;36mpandas._libs.index.IndexEngine.get_loc\u001b[0;34m()\u001b[0m\n",
      "\u001b[0;32mpandas/_libs/index.pyx\u001b[0m in \u001b[0;36mpandas._libs.index.IndexEngine.get_loc\u001b[0;34m()\u001b[0m\n",
      "\u001b[0;32mpandas/_libs/hashtable_class_helper.pxi\u001b[0m in \u001b[0;36mpandas._libs.hashtable.PyObjectHashTable.get_item\u001b[0;34m()\u001b[0m\n",
      "\u001b[0;32mpandas/_libs/hashtable_class_helper.pxi\u001b[0m in \u001b[0;36mpandas._libs.hashtable.PyObjectHashTable.get_item\u001b[0;34m()\u001b[0m\n",
      "\u001b[0;31mKeyError\u001b[0m: 'da_1'",
      "\nThe above exception was the direct cause of the following exception:\n",
      "\u001b[0;31mKeyError\u001b[0m                                  Traceback (most recent call last)",
      "\u001b[0;32m<ipython-input-15-fc99e86811ad>\u001b[0m in \u001b[0;36m<module>\u001b[0;34m\u001b[0m\n\u001b[0;32m----> 1\u001b[0;31m \u001b[0mdf\u001b[0m\u001b[0;34m[\u001b[0m\u001b[0;34m'da_1'\u001b[0m\u001b[0;34m]\u001b[0m\u001b[0;34m.\u001b[0m\u001b[0mmin\u001b[0m\u001b[0;34m(\u001b[0m\u001b[0;34m)\u001b[0m\u001b[0;34m\u001b[0m\u001b[0;34m\u001b[0m\u001b[0m\n\u001b[0m",
      "\u001b[0;32m~/anaconda3/lib/python3.8/site-packages/pandas/core/frame.py\u001b[0m in \u001b[0;36m__getitem__\u001b[0;34m(self, key)\u001b[0m\n\u001b[1;32m   2900\u001b[0m             \u001b[0;32mif\u001b[0m \u001b[0mself\u001b[0m\u001b[0;34m.\u001b[0m\u001b[0mcolumns\u001b[0m\u001b[0;34m.\u001b[0m\u001b[0mnlevels\u001b[0m \u001b[0;34m>\u001b[0m \u001b[0;36m1\u001b[0m\u001b[0;34m:\u001b[0m\u001b[0;34m\u001b[0m\u001b[0;34m\u001b[0m\u001b[0m\n\u001b[1;32m   2901\u001b[0m                 \u001b[0;32mreturn\u001b[0m \u001b[0mself\u001b[0m\u001b[0;34m.\u001b[0m\u001b[0m_getitem_multilevel\u001b[0m\u001b[0;34m(\u001b[0m\u001b[0mkey\u001b[0m\u001b[0;34m)\u001b[0m\u001b[0;34m\u001b[0m\u001b[0;34m\u001b[0m\u001b[0m\n\u001b[0;32m-> 2902\u001b[0;31m             \u001b[0mindexer\u001b[0m \u001b[0;34m=\u001b[0m \u001b[0mself\u001b[0m\u001b[0;34m.\u001b[0m\u001b[0mcolumns\u001b[0m\u001b[0;34m.\u001b[0m\u001b[0mget_loc\u001b[0m\u001b[0;34m(\u001b[0m\u001b[0mkey\u001b[0m\u001b[0;34m)\u001b[0m\u001b[0;34m\u001b[0m\u001b[0;34m\u001b[0m\u001b[0m\n\u001b[0m\u001b[1;32m   2903\u001b[0m             \u001b[0;32mif\u001b[0m \u001b[0mis_integer\u001b[0m\u001b[0;34m(\u001b[0m\u001b[0mindexer\u001b[0m\u001b[0;34m)\u001b[0m\u001b[0;34m:\u001b[0m\u001b[0;34m\u001b[0m\u001b[0;34m\u001b[0m\u001b[0m\n\u001b[1;32m   2904\u001b[0m                 \u001b[0mindexer\u001b[0m \u001b[0;34m=\u001b[0m \u001b[0;34m[\u001b[0m\u001b[0mindexer\u001b[0m\u001b[0;34m]\u001b[0m\u001b[0;34m\u001b[0m\u001b[0;34m\u001b[0m\u001b[0m\n",
      "\u001b[0;32m~/anaconda3/lib/python3.8/site-packages/pandas/core/indexes/base.py\u001b[0m in \u001b[0;36mget_loc\u001b[0;34m(self, key, method, tolerance)\u001b[0m\n\u001b[1;32m   2895\u001b[0m                 \u001b[0;32mreturn\u001b[0m \u001b[0mself\u001b[0m\u001b[0;34m.\u001b[0m\u001b[0m_engine\u001b[0m\u001b[0;34m.\u001b[0m\u001b[0mget_loc\u001b[0m\u001b[0;34m(\u001b[0m\u001b[0mcasted_key\u001b[0m\u001b[0;34m)\u001b[0m\u001b[0;34m\u001b[0m\u001b[0;34m\u001b[0m\u001b[0m\n\u001b[1;32m   2896\u001b[0m             \u001b[0;32mexcept\u001b[0m \u001b[0mKeyError\u001b[0m \u001b[0;32mas\u001b[0m \u001b[0merr\u001b[0m\u001b[0;34m:\u001b[0m\u001b[0;34m\u001b[0m\u001b[0;34m\u001b[0m\u001b[0m\n\u001b[0;32m-> 2897\u001b[0;31m                 \u001b[0;32mraise\u001b[0m \u001b[0mKeyError\u001b[0m\u001b[0;34m(\u001b[0m\u001b[0mkey\u001b[0m\u001b[0;34m)\u001b[0m \u001b[0;32mfrom\u001b[0m \u001b[0merr\u001b[0m\u001b[0;34m\u001b[0m\u001b[0;34m\u001b[0m\u001b[0m\n\u001b[0m\u001b[1;32m   2898\u001b[0m \u001b[0;34m\u001b[0m\u001b[0m\n\u001b[1;32m   2899\u001b[0m         \u001b[0;32mif\u001b[0m \u001b[0mtolerance\u001b[0m \u001b[0;32mis\u001b[0m \u001b[0;32mnot\u001b[0m \u001b[0;32mNone\u001b[0m\u001b[0;34m:\u001b[0m\u001b[0;34m\u001b[0m\u001b[0;34m\u001b[0m\u001b[0m\n",
      "\u001b[0;31mKeyError\u001b[0m: 'da_1'"
     ]
    }
   ],
   "source": [
    "df['da_1'].min()"
   ]
  },
  {
   "cell_type": "code",
   "execution_count": 219,
   "metadata": {},
   "outputs": [
    {
     "data": {
      "text/plain": [
       "<matplotlib.collections.PathCollection at 0x7f236092b2d0>"
      ]
     },
     "execution_count": 219,
     "metadata": {},
     "output_type": "execute_result"
    },
    {
     "data": {
      "image/png": "[encoded data removed]",
      "text/plain": [
       "<Figure size 1008x576 with 1 Axes>"
      ]
     },
     "metadata": {},
     "output_type": "display_data"
    }
   ],
   "source": [
    "fig, ax = plt.subplots(1,1, figsize=(14,8))\n",
    "\n",
    "y0 = df[\"ins_mag_0\"]\n",
    "y1 = df[\"ins_mag_1\"]\n",
    "y2 = df[\"ins_mag_2\"]\n",
    "x = df[\"JD\"]\n",
    "ax.set_xlabel('JD', fontsize=20)\n",
    "ax.set_ylabel('instrumental magnitude',fontsize=20)\n",
    "\n",
    "ax.scatter(x,y0,s=20,marker='+')\n",
    "# ax.scatter(x,y1,s=20,marker='o')\n",
    "# ax.scatter(x,y2,s=20,marker='x')\n",
    "\n",
    "# def objective(x, a, b, c):\n",
    "#     return a * np.sin(b*x) + c\n",
    "\n",
    "# popt, _ = optimize.curve_fit(objective, x1, y1)\n",
    "\n",
    "# a, b, c = popt\n",
    "\n",
    "# x_new = np.arange(df['JD'].min(),df['JD'].max(), 10000)\n",
    "# y_new = objective(x_new, a, b, c)\n",
    "\n",
    "# ax.scatter(x_new,y_new)\n",
    "\n"
   ]
  },
  {
   "cell_type": "code",
   "execution_count": 220,
   "metadata": {},
   "outputs": [],
   "source": [
    "df['da_0'] = df['ins_mag_0']-df['ins_mag_2']\n",
    "df['da_1'] = df['ins_mag_1']-df['ins_mag_2']\n",
    "df['da_2'] = df['ins_mag_2']-df['ins_mag_2']\n"
   ]
  },
  {
   "cell_type": "code",
   "execution_count": 16,
   "metadata": {},
   "outputs": [
    {
     "ename": "KeyError",
     "evalue": "'da_0'",
     "output_type": "error",
     "traceback": [
      "\u001b[0;31m---------------------------------------------------------------------------\u001b[0m",
      "\u001b[0;31mKeyError\u001b[0m                                  Traceback (most recent call last)",
      "\u001b[0;32m~/anaconda3/lib/python3.8/site-packages/pandas/core/indexes/base.py\u001b[0m in \u001b[0;36mget_loc\u001b[0;34m(self, key, method, tolerance)\u001b[0m\n\u001b[1;32m   2894\u001b[0m             \u001b[0;32mtry\u001b[0m\u001b[0;34m:\u001b[0m\u001b[0;34m\u001b[0m\u001b[0;34m\u001b[0m\u001b[0m\n\u001b[0;32m-> 2895\u001b[0;31m                 \u001b[0;32mreturn\u001b[0m \u001b[0mself\u001b[0m\u001b[0;34m.\u001b[0m\u001b[0m_engine\u001b[0m\u001b[0;34m.\u001b[0m\u001b[0mget_loc\u001b[0m\u001b[0;34m(\u001b[0m\u001b[0mcasted_key\u001b[0m\u001b[0;34m)\u001b[0m\u001b[0;34m\u001b[0m\u001b[0;34m\u001b[0m\u001b[0m\n\u001b[0m\u001b[1;32m   2896\u001b[0m             \u001b[0;32mexcept\u001b[0m \u001b[0mKeyError\u001b[0m \u001b[0;32mas\u001b[0m \u001b[0merr\u001b[0m\u001b[0;34m:\u001b[0m\u001b[0;34m\u001b[0m\u001b[0;34m\u001b[0m\u001b[0m\n",
      "\u001b[0;32mpandas/_libs/index.pyx\u001b[0m in \u001b[0;36mpandas._libs.index.IndexEngine.get_loc\u001b[0;34m()\u001b[0m\n",
      "\u001b[0;32mpandas/_libs/index.pyx\u001b[0m in \u001b[0;36mpandas._libs.index.IndexEngine.get_loc\u001b[0;34m()\u001b[0m\n",
      "\u001b[0;32mpandas/_libs/hashtable_class_helper.pxi\u001b[0m in \u001b[0;36mpandas._libs.hashtable.PyObjectHashTable.get_item\u001b[0;34m()\u001b[0m\n",
      "\u001b[0;32mpandas/_libs/hashtable_class_helper.pxi\u001b[0m in \u001b[0;36mpandas._libs.hashtable.PyObjectHashTable.get_item\u001b[0;34m()\u001b[0m\n",
      "\u001b[0;31mKeyError\u001b[0m: 'da_0'",
      "\nThe above exception was the direct cause of the following exception:\n",
      "\u001b[0;31mKeyError\u001b[0m                                  Traceback (most recent call last)",
      "\u001b[0;32m<ipython-input-16-b2b123f1dfc9>\u001b[0m in \u001b[0;36m<module>\u001b[0;34m\u001b[0m\n\u001b[1;32m      1\u001b[0m \u001b[0mfig\u001b[0m\u001b[0;34m,\u001b[0m \u001b[0max\u001b[0m \u001b[0;34m=\u001b[0m \u001b[0mplt\u001b[0m\u001b[0;34m.\u001b[0m\u001b[0msubplots\u001b[0m\u001b[0;34m(\u001b[0m\u001b[0;36m1\u001b[0m\u001b[0;34m,\u001b[0m\u001b[0;36m1\u001b[0m\u001b[0;34m,\u001b[0m \u001b[0mfigsize\u001b[0m\u001b[0;34m=\u001b[0m\u001b[0;34m(\u001b[0m\u001b[0;36m14\u001b[0m\u001b[0;34m,\u001b[0m\u001b[0;36m8\u001b[0m\u001b[0;34m)\u001b[0m\u001b[0;34m)\u001b[0m\u001b[0;34m\u001b[0m\u001b[0;34m\u001b[0m\u001b[0m\n\u001b[1;32m      2\u001b[0m \u001b[0;34m\u001b[0m\u001b[0m\n\u001b[0;32m----> 3\u001b[0;31m \u001b[0my0\u001b[0m \u001b[0;34m=\u001b[0m \u001b[0mdf\u001b[0m\u001b[0;34m[\u001b[0m\u001b[0;34m\"da_0\"\u001b[0m\u001b[0;34m]\u001b[0m\u001b[0;34m\u001b[0m\u001b[0;34m\u001b[0m\u001b[0m\n\u001b[0m\u001b[1;32m      4\u001b[0m \u001b[0my1\u001b[0m \u001b[0;34m=\u001b[0m \u001b[0mdf\u001b[0m\u001b[0;34m[\u001b[0m\u001b[0;34m\"da_1\"\u001b[0m\u001b[0;34m]\u001b[0m\u001b[0;34m\u001b[0m\u001b[0;34m\u001b[0m\u001b[0m\n\u001b[1;32m      5\u001b[0m \u001b[0my2\u001b[0m \u001b[0;34m=\u001b[0m \u001b[0mdf\u001b[0m\u001b[0;34m[\u001b[0m\u001b[0;34m\"da_2\"\u001b[0m\u001b[0;34m]\u001b[0m\u001b[0;34m\u001b[0m\u001b[0;34m\u001b[0m\u001b[0m\n",
      "\u001b[0;32m~/anaconda3/lib/python3.8/site-packages/pandas/core/frame.py\u001b[0m in \u001b[0;36m__getitem__\u001b[0;34m(self, key)\u001b[0m\n\u001b[1;32m   2900\u001b[0m             \u001b[0;32mif\u001b[0m \u001b[0mself\u001b[0m\u001b[0;34m.\u001b[0m\u001b[0mcolumns\u001b[0m\u001b[0;34m.\u001b[0m\u001b[0mnlevels\u001b[0m \u001b[0;34m>\u001b[0m \u001b[0;36m1\u001b[0m\u001b[0;34m:\u001b[0m\u001b[0;34m\u001b[0m\u001b[0;34m\u001b[0m\u001b[0m\n\u001b[1;32m   2901\u001b[0m                 \u001b[0;32mreturn\u001b[0m \u001b[0mself\u001b[0m\u001b[0;34m.\u001b[0m\u001b[0m_getitem_multilevel\u001b[0m\u001b[0;34m(\u001b[0m\u001b[0mkey\u001b[0m\u001b[0;34m)\u001b[0m\u001b[0;34m\u001b[0m\u001b[0;34m\u001b[0m\u001b[0m\n\u001b[0;32m-> 2902\u001b[0;31m             \u001b[0mindexer\u001b[0m \u001b[0;34m=\u001b[0m \u001b[0mself\u001b[0m\u001b[0;34m.\u001b[0m\u001b[0mcolumns\u001b[0m\u001b[0;34m.\u001b[0m\u001b[0mget_loc\u001b[0m\u001b[0;34m(\u001b[0m\u001b[0mkey\u001b[0m\u001b[0;34m)\u001b[0m\u001b[0;34m\u001b[0m\u001b[0;34m\u001b[0m\u001b[0m\n\u001b[0m\u001b[1;32m   2903\u001b[0m             \u001b[0;32mif\u001b[0m \u001b[0mis_integer\u001b[0m\u001b[0;34m(\u001b[0m\u001b[0mindexer\u001b[0m\u001b[0;34m)\u001b[0m\u001b[0;34m:\u001b[0m\u001b[0;34m\u001b[0m\u001b[0;34m\u001b[0m\u001b[0m\n\u001b[1;32m   2904\u001b[0m                 \u001b[0mindexer\u001b[0m \u001b[0;34m=\u001b[0m \u001b[0;34m[\u001b[0m\u001b[0mindexer\u001b[0m\u001b[0;34m]\u001b[0m\u001b[0;34m\u001b[0m\u001b[0;34m\u001b[0m\u001b[0m\n",
      "\u001b[0;32m~/anaconda3/lib/python3.8/site-packages/pandas/core/indexes/base.py\u001b[0m in \u001b[0;36mget_loc\u001b[0;34m(self, key, method, tolerance)\u001b[0m\n\u001b[1;32m   2895\u001b[0m                 \u001b[0;32mreturn\u001b[0m \u001b[0mself\u001b[0m\u001b[0;34m.\u001b[0m\u001b[0m_engine\u001b[0m\u001b[0;34m.\u001b[0m\u001b[0mget_loc\u001b[0m\u001b[0;34m(\u001b[0m\u001b[0mcasted_key\u001b[0m\u001b[0;34m)\u001b[0m\u001b[0;34m\u001b[0m\u001b[0;34m\u001b[0m\u001b[0m\n\u001b[1;32m   2896\u001b[0m             \u001b[0;32mexcept\u001b[0m \u001b[0mKeyError\u001b[0m \u001b[0;32mas\u001b[0m \u001b[0merr\u001b[0m\u001b[0;34m:\u001b[0m\u001b[0;34m\u001b[0m\u001b[0;34m\u001b[0m\u001b[0m\n\u001b[0;32m-> 2897\u001b[0;31m                 \u001b[0;32mraise\u001b[0m \u001b[0mKeyError\u001b[0m\u001b[0;34m(\u001b[0m\u001b[0mkey\u001b[0m\u001b[0;34m)\u001b[0m \u001b[0;32mfrom\u001b[0m \u001b[0merr\u001b[0m\u001b[0;34m\u001b[0m\u001b[0;34m\u001b[0m\u001b[0m\n\u001b[0m\u001b[1;32m   2898\u001b[0m \u001b[0;34m\u001b[0m\u001b[0m\n\u001b[1;32m   2899\u001b[0m         \u001b[0;32mif\u001b[0m \u001b[0mtolerance\u001b[0m \u001b[0;32mis\u001b[0m \u001b[0;32mnot\u001b[0m \u001b[0;32mNone\u001b[0m\u001b[0;34m:\u001b[0m\u001b[0;34m\u001b[0m\u001b[0;34m\u001b[0m\u001b[0m\n",
      "\u001b[0;31mKeyError\u001b[0m: 'da_0'"
     ]
    },
    {
     "data": {
      "image/png": "[encoded data removed]",
      "text/plain": [
       "<Figure size 1008x576 with 1 Axes>"
      ]
     },
     "metadata": {
      "needs_background": "light"
     },
     "output_type": "display_data"
    }
   ],
   "source": [
    "fig, ax = plt.subplots(1,1, figsize=(14,8))\n",
    "\n",
    "y0 = df[\"da_0\"]\n",
    "y1 = df[\"da_1\"]\n",
    "y2 = df[\"da_2\"]\n",
    "x = df[\"JD\"]\n",
    "ax.set_xlabel('JD', fontsize=20)\n",
    "ax.set_ylabel('differential magnitude',fontsize=20)\n",
    "\n",
    "ax.scatter(x,y0,s=20,marker='+')\n",
    "ax.scatter(x,y1,s=20,marker='o')\n",
    "ax.scatter(x,y2,s=20,marker='x')\n",
    "\n",
    "# def objective(x, a, b, c):\n",
    "#     return a * np.sin(b*x) + c\n",
    "\n",
    "# popt, _ = optimize.curve_fit(objective, x1, y1)\n",
    "\n",
    "# a, b, c = popt\n",
    "\n",
    "# x_new = np.arange(df['JD'].min(),df['JD'].max(), 10000)\n",
    "# y_new = objective(x_new, a, b, c)\n",
    "\n",
    "# ax.scatter(x_new,y_new)\n",
    "\n"
   ]
  },
  {
   "cell_type": "code",
   "execution_count": null,
   "metadata": {},
   "outputs": [],
   "source": []
  },
  {
   "cell_type": "code",
   "execution_count": null,
   "metadata": {},
   "outputs": [],
   "source": []
  }
 ],
 "metadata": {
  "kernelspec": {
   "display_name": "Python 3",
   "language": "python",
   "name": "python3"
  },
  "language_info": {
   "codemirror_mode": {
    "name": "ipython",
    "version": 3
   },
   "file_extension": ".py",
   "mimetype": "text/x-python",
   "name": "python",
   "nbconvert_exporter": "python",
   "pygments_lexer": "ipython3",
   "version": "3.8.5"
  }
 },
 "nbformat": 4,
 "nbformat_minor": 4
}
