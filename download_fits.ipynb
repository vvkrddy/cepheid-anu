{
 "cells": [
  {
   "cell_type": "code",
   "execution_count": 1,
   "metadata": {},
   "outputs": [],
   "source": [
    "from bs4 import BeautifulSoup as bs\n",
    "import requests"
   ]
  },
  {
   "cell_type": "code",
   "execution_count": 3,
   "metadata": {},
   "outputs": [],
   "source": [
    "URL = 'http://www.mso.anu.edu.au/~jerjen/researchprojects/cepheids/cepheid_data/'\n",
    "FILETYPE = '.fits'"
   ]
  },
  {
   "cell_type": "code",
   "execution_count": 12,
   "metadata": {},
   "outputs": [],
   "source": [
    "page = requests.get(URL)\n",
    "soup = bs(page.text, 'html.parser')"
   ]
  },
  {
   "cell_type": "code",
   "execution_count": 18,
   "metadata": {},
   "outputs": [
    {
     "ename": "FileNotFoundError",
     "evalue": "[Errno 2] No such file or directory: 'fits_files/ceph_2451890.76992.fits'",
     "output_type": "error",
     "traceback": [
      "\u001b[0;31m---------------------------------------------------------------------------\u001b[0m",
      "\u001b[0;31mFileNotFoundError\u001b[0m                         Traceback (most recent call last)",
      "\u001b[0;32m<ipython-input-18-ff72a2efdf83>\u001b[0m in \u001b[0;36m<module>\u001b[0;34m\u001b[0m\n\u001b[1;32m      3\u001b[0m     \u001b[0;32mif\u001b[0m \u001b[0mFILETYPE\u001b[0m \u001b[0;32min\u001b[0m \u001b[0mdown_link\u001b[0m\u001b[0;34m:\u001b[0m\u001b[0;34m\u001b[0m\u001b[0;34m\u001b[0m\u001b[0m\n\u001b[1;32m      4\u001b[0m \u001b[0;31m#         print(type(link.text))\u001b[0m\u001b[0;34m\u001b[0m\u001b[0;34m\u001b[0m\u001b[0;34m\u001b[0m\u001b[0m\n\u001b[0;32m----> 5\u001b[0;31m         \u001b[0;32mwith\u001b[0m \u001b[0mopen\u001b[0m\u001b[0;34m(\u001b[0m\u001b[0;34m'fits_files/'\u001b[0m\u001b[0;34m+\u001b[0m\u001b[0mlink\u001b[0m\u001b[0;34m.\u001b[0m\u001b[0mtext\u001b[0m\u001b[0;34m,\u001b[0m\u001b[0;34m'wb'\u001b[0m\u001b[0;34m)\u001b[0m \u001b[0;32mas\u001b[0m \u001b[0mfile\u001b[0m\u001b[0;34m:\u001b[0m\u001b[0;34m\u001b[0m\u001b[0;34m\u001b[0m\u001b[0m\n\u001b[0m\u001b[1;32m      6\u001b[0m             \u001b[0mresponse\u001b[0m \u001b[0;34m=\u001b[0m \u001b[0mrequests\u001b[0m\u001b[0;34m.\u001b[0m\u001b[0mget\u001b[0m\u001b[0;34m(\u001b[0m\u001b[0mURL\u001b[0m \u001b[0;34m+\u001b[0m \u001b[0mdown_link\u001b[0m\u001b[0;34m)\u001b[0m\u001b[0;34m\u001b[0m\u001b[0;34m\u001b[0m\u001b[0m\n\u001b[1;32m      7\u001b[0m             \u001b[0mfile\u001b[0m\u001b[0;34m.\u001b[0m\u001b[0mwrite\u001b[0m\u001b[0;34m(\u001b[0m\u001b[0mresponse\u001b[0m\u001b[0;34m.\u001b[0m\u001b[0mcontent\u001b[0m\u001b[0;34m)\u001b[0m\u001b[0;34m\u001b[0m\u001b[0;34m\u001b[0m\u001b[0m\n",
      "\u001b[0;31mFileNotFoundError\u001b[0m: [Errno 2] No such file or directory: 'fits_files/ceph_2451890.76992.fits'"
     ]
    }
   ],
   "source": [
    "for link in soup.find_all('a'):\n",
    "    down_link = link.get('href')\n",
    "    if FILETYPE in down_link:\n",
    "#         print(type(link.text))\n",
    "        with open(link.text,'wb') as file:\n",
    "            response = requests.get(URL + down_link)\n",
    "            file.write(response.content)"
   ]
  },
  {
   "cell_type": "code",
   "execution_count": 8,
   "metadata": {},
   "outputs": [
    {
     "data": {
      "text/plain": [
       "<!DOCTYPE HTML PUBLIC \"-//W3C//DTD HTML 3.2 Final//EN\">\n",
       "\n",
       "<html>\n",
       "<head>\n",
       "<title>Index of /~jerjen/researchprojects/cepheids/cepheid_data</title>\n",
       "</head>\n",
       "<body>\n",
       "<h1>Index of /~jerjen/researchprojects/cepheids/cepheid_data</h1>\n",
       "<pre><img alt=\"Icon \" src=\"/icons/blank.gif\"/> <a href=\"?C=N;O=D\">Name</a>                    <a href=\"?C=M;O=A\">Last modified</a>      <a href=\"?C=S;O=A\">Size</a>  <a href=\"?C=D;O=A\">Description</a><hr/><img alt=\"[DIR]\" src=\"/icons/back.gif\"/> <a href=\"/~jerjen/researchprojects/cepheids/\">Parent Directory</a>                             -   \n",
       "<img alt=\"[IMG]\" src=\"/icons/image2.gif\"/> <a href=\"ceph_2451890.76992.fits\">ceph_2451890.76992.fits</a> 17-Jun-2007 11:52   93K  \n",
       "<img alt=\"[IMG]\" src=\"/icons/image2.gif\"/> <a href=\"ceph_2451890.79772.fits\">ceph_2451890.79772.fits</a> 17-Jun-2007 11:52   93K  \n",
       "<img alt=\"[IMG]\" src=\"/icons/image2.gif\"/> <a href=\"ceph_2451890.82012.fits\">ceph_2451890.82012.fits</a> 17-Jun-2007 11:52   93K  \n",
       "<img alt=\"[IMG]\" src=\"/icons/image2.gif\"/> <a href=\"ceph_2451890.84782.fits\">ceph_2451890.84782.fits</a> 17-Jun-2007 11:52   93K  \n",
       "<img alt=\"[IMG]\" src=\"/icons/image2.gif\"/> <a href=\"ceph_2451890.87572.fits\">ceph_2451890.87572.fits</a> 17-Jun-2007 11:52   93K  \n",
       "<img alt=\"[IMG]\" src=\"/icons/image2.gif\"/> <a href=\"ceph_2451890.90352.fits\">ceph_2451890.90352.fits</a> 17-Jun-2007 11:52   93K  \n",
       "<img alt=\"[IMG]\" src=\"/icons/image2.gif\"/> <a href=\"ceph_2451890.97072.fits\">ceph_2451890.97072.fits</a> 17-Jun-2007 11:52   93K  \n",
       "<img alt=\"[IMG]\" src=\"/icons/image2.gif\"/> <a href=\"ceph_2451891.31132.fits\">ceph_2451891.31132.fits</a> 17-Jun-2007 11:52   93K  \n",
       "<img alt=\"[IMG]\" src=\"/icons/image2.gif\"/> <a href=\"ceph_2451891.35292.fits\">ceph_2451891.35292.fits</a> 17-Jun-2007 11:52   93K  \n",
       "<img alt=\"[IMG]\" src=\"/icons/image2.gif\"/> <a href=\"ceph_2451891.35562.fits\">ceph_2451891.35562.fits</a> 17-Jun-2007 11:52   93K  \n",
       "<img alt=\"[IMG]\" src=\"/icons/image2.gif\"/> <a href=\"ceph_2451891.39872.fits\">ceph_2451891.39872.fits</a> 17-Jun-2007 11:52   93K  \n",
       "<img alt=\"[IMG]\" src=\"/icons/image2.gif\"/> <a href=\"ceph_2451891.48952.fits\">ceph_2451891.48952.fits</a> 17-Jun-2007 11:52   93K  \n",
       "<img alt=\"[IMG]\" src=\"/icons/image2.gif\"/> <a href=\"ceph_2451891.52842.fits\">ceph_2451891.52842.fits</a> 17-Jun-2007 11:52   93K  \n",
       "<img alt=\"[IMG]\" src=\"/icons/image2.gif\"/> <a href=\"ceph_2451891.57602.fits\">ceph_2451891.57602.fits</a> 17-Jun-2007 11:52   93K  \n",
       "<img alt=\"[IMG]\" src=\"/icons/image2.gif\"/> <a href=\"ceph_2451891.58152.fits\">ceph_2451891.58152.fits</a> 17-Jun-2007 11:52   93K  \n",
       "<img alt=\"[IMG]\" src=\"/icons/image2.gif\"/> <a href=\"ceph_2451891.60222.fits\">ceph_2451891.60222.fits</a> 17-Jun-2007 11:52   93K  \n",
       "<img alt=\"[IMG]\" src=\"/icons/image2.gif\"/> <a href=\"ceph_2451891.65752.fits\">ceph_2451891.65752.fits</a> 17-Jun-2007 11:52   93K  \n",
       "<img alt=\"[IMG]\" src=\"/icons/image2.gif\"/> <a href=\"ceph_2451891.70262.fits\">ceph_2451891.70262.fits</a> 17-Jun-2007 11:52   93K  \n",
       "<img alt=\"[IMG]\" src=\"/icons/image2.gif\"/> <a href=\"ceph_2451891.79442.fits\">ceph_2451891.79442.fits</a> 17-Jun-2007 11:52   93K  \n",
       "<img alt=\"[IMG]\" src=\"/icons/image2.gif\"/> <a href=\"ceph_2451891.85352.fits\">ceph_2451891.85352.fits</a> 17-Jun-2007 11:53   93K  \n",
       "<img alt=\"[IMG]\" src=\"/icons/image2.gif\"/> <a href=\"ceph_2451891.95302.fits\">ceph_2451891.95302.fits</a> 17-Jun-2007 11:53   93K  \n",
       "<img alt=\"[IMG]\" src=\"/icons/image2.gif\"/> <a href=\"ceph_2451892.07922.fits\">ceph_2451892.07922.fits</a> 17-Jun-2007 11:53   93K  \n",
       "<img alt=\"[IMG]\" src=\"/icons/image2.gif\"/> <a href=\"ceph_2451892.20992.fits\">ceph_2451892.20992.fits</a> 17-Jun-2007 11:53   93K  \n",
       "<img alt=\"[IMG]\" src=\"/icons/image2.gif\"/> <a href=\"ceph_2451892.22072.fits\">ceph_2451892.22072.fits</a> 17-Jun-2007 11:53   93K  \n",
       "<img alt=\"[IMG]\" src=\"/icons/image2.gif\"/> <a href=\"ceph_2451892.31292.fits\">ceph_2451892.31292.fits</a> 17-Jun-2007 11:53   93K  \n",
       "<img alt=\"[IMG]\" src=\"/icons/image2.gif\"/> <a href=\"ceph_2451892.33302.fits\">ceph_2451892.33302.fits</a> 17-Jun-2007 11:53   93K  \n",
       "<img alt=\"[IMG]\" src=\"/icons/image2.gif\"/> <a href=\"ceph_2451892.36322.fits\">ceph_2451892.36322.fits</a> 17-Jun-2007 11:53   93K  \n",
       "<img alt=\"[IMG]\" src=\"/icons/image2.gif\"/> <a href=\"ceph_2451892.40822.fits\">ceph_2451892.40822.fits</a> 17-Jun-2007 11:53   93K  \n",
       "<img alt=\"[IMG]\" src=\"/icons/image2.gif\"/> <a href=\"ceph_2451892.42502.fits\">ceph_2451892.42502.fits</a> 17-Jun-2007 11:53   93K  \n",
       "<img alt=\"[IMG]\" src=\"/icons/image2.gif\"/> <a href=\"ceph_2451892.45792.fits\">ceph_2451892.45792.fits</a> 17-Jun-2007 11:53   93K  \n",
       "<img alt=\"[IMG]\" src=\"/icons/image2.gif\"/> <a href=\"ceph_2451892.50102.fits\">ceph_2451892.50102.fits</a> 17-Jun-2007 11:53   93K  \n",
       "<img alt=\"[IMG]\" src=\"/icons/image2.gif\"/> <a href=\"ceph_2451892.51062.fits\">ceph_2451892.51062.fits</a> 17-Jun-2007 11:53   93K  \n",
       "<img alt=\"[IMG]\" src=\"/icons/image2.gif\"/> <a href=\"ceph_2451892.55862.fits\">ceph_2451892.55862.fits</a> 17-Jun-2007 11:53   93K  \n",
       "<img alt=\"[IMG]\" src=\"/icons/image2.gif\"/> <a href=\"ceph_2451892.60052.fits\">ceph_2451892.60052.fits</a> 17-Jun-2007 11:53   93K  \n",
       "<img alt=\"[IMG]\" src=\"/icons/image2.gif\"/> <a href=\"ceph_2451892.65112.fits\">ceph_2451892.65112.fits</a> 17-Jun-2007 11:53   93K  \n",
       "<img alt=\"[IMG]\" src=\"/icons/image2.gif\"/> <a href=\"ceph_2451892.70082.fits\">ceph_2451892.70082.fits</a> 17-Jun-2007 11:53   93K  \n",
       "<img alt=\"[IMG]\" src=\"/icons/image2.gif\"/> <a href=\"ceph_2451892.74812.fits\">ceph_2451892.74812.fits</a> 17-Jun-2007 11:53   93K  \n",
       "<img alt=\"[IMG]\" src=\"/icons/image2.gif\"/> <a href=\"ceph_2451892.76252.fits\">ceph_2451892.76252.fits</a> 17-Jun-2007 11:53   93K  \n",
       "<img alt=\"[IMG]\" src=\"/icons/image2.gif\"/> <a href=\"ceph_2451892.79032.fits\">ceph_2451892.79032.fits</a> 17-Jun-2007 11:53   93K  \n",
       "<img alt=\"[IMG]\" src=\"/icons/image2.gif\"/> <a href=\"ceph_2451892.80662.fits\">ceph_2451892.80662.fits</a> 17-Jun-2007 11:53   93K  \n",
       "<img alt=\"[IMG]\" src=\"/icons/image2.gif\"/> <a href=\"ceph_2451892.83432.fits\">ceph_2451892.83432.fits</a> 17-Jun-2007 11:53   93K  \n",
       "<img alt=\"[IMG]\" src=\"/icons/image2.gif\"/> <a href=\"ceph_2451892.96242.fits\">ceph_2451892.96242.fits</a> 17-Jun-2007 11:53   93K  \n",
       "<img alt=\"[IMG]\" src=\"/icons/image2.gif\"/> <a href=\"ceph_2451893.27562.fits\">ceph_2451893.27562.fits</a> 17-Jun-2007 11:53   93K  \n",
       "<img alt=\"[IMG]\" src=\"/icons/image2.gif\"/> <a href=\"ceph_2451893.29662.fits\">ceph_2451893.29662.fits</a> 17-Jun-2007 11:53   93K  \n",
       "<img alt=\"[IMG]\" src=\"/icons/image2.gif\"/> <a href=\"ceph_2451893.36262.fits\">ceph_2451893.36262.fits</a> 17-Jun-2007 11:53   93K  \n",
       "<img alt=\"[IMG]\" src=\"/icons/image2.gif\"/> <a href=\"ceph_2451893.50272.fits\">ceph_2451893.50272.fits</a> 17-Jun-2007 11:53   93K  \n",
       "<img alt=\"[IMG]\" src=\"/icons/image2.gif\"/> <a href=\"ceph_2451893.57792.fits\">ceph_2451893.57792.fits</a> 17-Jun-2007 11:53   93K  \n",
       "<img alt=\"[IMG]\" src=\"/icons/image2.gif\"/> <a href=\"ceph_2451893.79002.fits\">ceph_2451893.79002.fits</a> 17-Jun-2007 11:53   93K  \n",
       "<img alt=\"[IMG]\" src=\"/icons/image2.gif\"/> <a href=\"ceph_2451893.81212.fits\">ceph_2451893.81212.fits</a> 17-Jun-2007 11:53   93K  \n",
       "<img alt=\"[IMG]\" src=\"/icons/image2.gif\"/> <a href=\"ceph_2451893.87432.fits\">ceph_2451893.87432.fits</a> 17-Jun-2007 11:53   93K  \n",
       "<img alt=\"[IMG]\" src=\"/icons/image2.gif\"/> <a href=\"ceph_2451893.90232.fits\">ceph_2451893.90232.fits</a> 17-Jun-2007 11:53   93K  \n",
       "<img alt=\"[IMG]\" src=\"/icons/image2.gif\"/> <a href=\"ceph_2451893.93322.fits\">ceph_2451893.93322.fits</a> 17-Jun-2007 11:53   93K  \n",
       "<img alt=\"[IMG]\" src=\"/icons/image2.gif\"/> <a href=\"ceph_2451893.96102.fits\">ceph_2451893.96102.fits</a> 17-Jun-2007 11:53   93K  \n",
       "<img alt=\"[IMG]\" src=\"/icons/image2.gif\"/> <a href=\"ceph_2451894.02092.fits\">ceph_2451894.02092.fits</a> 17-Jun-2007 11:53   93K  \n",
       "<img alt=\"[IMG]\" src=\"/icons/image2.gif\"/> <a href=\"ceph_2451894.10662.fits\">ceph_2451894.10662.fits</a> 17-Jun-2007 11:53   93K  \n",
       "<img alt=\"[IMG]\" src=\"/icons/image2.gif\"/> <a href=\"ceph_2451894.15472.fits\">ceph_2451894.15472.fits</a> 17-Jun-2007 11:53   93K  \n",
       "<img alt=\"[IMG]\" src=\"/icons/image2.gif\"/> <a href=\"ceph_2451894.24292.fits\">ceph_2451894.24292.fits</a> 17-Jun-2007 11:53   93K  \n",
       "<img alt=\"[IMG]\" src=\"/icons/image2.gif\"/> <a href=\"ceph_2451894.24342.fits\">ceph_2451894.24342.fits</a> 17-Jun-2007 11:53   93K  \n",
       "<img alt=\"[IMG]\" src=\"/icons/image2.gif\"/> <a href=\"ceph_2451894.29762.fits\">ceph_2451894.29762.fits</a> 17-Jun-2007 11:53   93K  \n",
       "<img alt=\"[IMG]\" src=\"/icons/image2.gif\"/> <a href=\"ceph_2451894.33802.fits\">ceph_2451894.33802.fits</a> 17-Jun-2007 11:54   93K  \n",
       "<img alt=\"[IMG]\" src=\"/icons/image2.gif\"/> <a href=\"ceph_2451894.35312.fits\">ceph_2451894.35312.fits</a> 17-Jun-2007 11:54   93K  \n",
       "<img alt=\"[IMG]\" src=\"/icons/image2.gif\"/> <a href=\"ceph_2451894.39752.fits\">ceph_2451894.39752.fits</a> 17-Jun-2007 11:54   93K  \n",
       "<img alt=\"[IMG]\" src=\"/icons/image2.gif\"/> <a href=\"ceph_2451894.41982.fits\">ceph_2451894.41982.fits</a> 17-Jun-2007 11:54   93K  \n",
       "<img alt=\"[IMG]\" src=\"/icons/image2.gif\"/> <a href=\"ceph_2451894.42192.fits\">ceph_2451894.42192.fits</a> 17-Jun-2007 11:54   93K  \n",
       "<img alt=\"[IMG]\" src=\"/icons/image2.gif\"/> <a href=\"ceph_2451894.50682.fits\">ceph_2451894.50682.fits</a> 17-Jun-2007 11:54   93K  \n",
       "<img alt=\"[IMG]\" src=\"/icons/image2.gif\"/> <a href=\"ceph_2451894.54652.fits\">ceph_2451894.54652.fits</a> 17-Jun-2007 11:54   93K  \n",
       "<img alt=\"[IMG]\" src=\"/icons/image2.gif\"/> <a href=\"ceph_2451894.59672.fits\">ceph_2451894.59672.fits</a> 17-Jun-2007 11:54   93K  \n",
       "<img alt=\"[IMG]\" src=\"/icons/image2.gif\"/> <a href=\"ceph_2451894.64542.fits\">ceph_2451894.64542.fits</a> 17-Jun-2007 11:54   93K  \n",
       "<hr/></pre>\n",
       "<address>Apache/2.2.15 (CentOS) mod_ssl/2.2.15 OpenSSL/1.0.1e-fips DAV/2 SVN/1.6.11 mod_python/3.3.1 Python/2.6.6 mod_wsgi/3.2 mod_fastcgi/2.4.6 mod_perl/2.0.4 Perl/v5.10.1 Server at www.mso.anu.edu.au Port 80</address>\n",
       "</body></html>"
      ]
     },
     "execution_count": 8,
     "metadata": {},
     "output_type": "execute_result"
    }
   ],
   "source": [
    "soup"
   ]
  },
  {
   "cell_type": "code",
   "execution_count": null,
   "metadata": {},
   "outputs": [],
   "source": []
  }
 ],
 "metadata": {
  "kernelspec": {
   "display_name": "Python 3",
   "language": "python",
   "name": "python3"
  },
  "language_info": {
   "codemirror_mode": {
    "name": "ipython",
    "version": 3
   },
   "file_extension": ".py",
   "mimetype": "text/x-python",
   "name": "python",
   "nbconvert_exporter": "python",
   "pygments_lexer": "ipython3",
   "version": "3.8.5"
  }
 },
 "nbformat": 4,
 "nbformat_minor": 4
}
